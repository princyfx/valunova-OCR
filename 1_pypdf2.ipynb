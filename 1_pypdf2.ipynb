{
 "cells": [
  {
   "cell_type": "markdown",
   "metadata": {},
   "source": [
    "Results not good"
   ]
  },
  {
   "cell_type": "code",
   "execution_count": 9,
   "metadata": {},
   "outputs": [],
   "source": [
    "import PyPDF2\n"
   ]
  },
  {
   "cell_type": "code",
   "execution_count": 10,
   "metadata": {},
   "outputs": [],
   "source": [
    "def extract_text_from_pdf(pdf_path):\n",
    "    # Open the PDF file in binary mode\n",
    "    with open(pdf_path, 'rb') as pdf_file:\n",
    "        # Create a PDF file reader object\n",
    "        pdf_reader = PyPDF2.PdfReader(pdf_file)\n",
    "        \n",
    "        # Initialize an empty string to store extracted text\n",
    "        text = \"\"\n",
    "        \n",
    "        # Iterate through each page of the PDF\n",
    "        for page_num in range(len(pdf_reader.pages)):\n",
    "            # Get a specific page from the PDF\n",
    "            page = pdf_reader.pages[page_num]\n",
    "            \n",
    "            # Extract text from the page\n",
    "            page_text = page.extract_text()\n",
    "            \n",
    "            # Append the extracted text to the overall text string\n",
    "            text += page_text\n",
    "            \n",
    "        # Return the extracted text\n",
    "        return text"
   ]
  },
  {
   "cell_type": "code",
   "execution_count": 11,
   "metadata": {},
   "outputs": [
    {
     "name": "stdout",
     "output_type": "stream",
     "text": [
      "RANJAN MEDICAL\n",
      "PURANI KOTWALI  ASHIFGANJ, \n",
      "AZAMGARH, UTTAR PRADESH - 276001\n",
      "Page : 1 Of 1 9838586345, 9454979291\n",
      "Bill Copy, Bill By Product(Party Wise) From : 01/01/24 To 31/01/24\n",
      "INV NO      INV DATE  PARTY / PRODUCT                    QTY     FREE    TOTAL AMT     SCHEME\n",
      "                                                                                              \n",
      "                      ASWINI HEALTHCARE                                                       \n",
      "                      GST:, Mob:                                                              \n",
      "SALE-L3475  24/01/24  PENCENAX-MR TABS                    10        0       341.67        2+1 \n",
      "                      CASH SALES                                                              \n",
      "                      GST:, Mob:                                                              \n",
      "SALE-L3384  15/01/24  ROVAFLUX DSR CAPS                    2        0        65.33        1+2 \n",
      "SALE-L3424  18/01/24  INFIZITH-500 TAB                    20        0      1142.14        2+1 \n",
      "SALE-L3520  31/01/24  FIXTERIA-CV 200 TAB                 10        0       658.90        1+1 \n",
      "                      PARTY TOTAL                                          1866.37            \n",
      "                      DR S LARI                                                               \n",
      "                      GST:, Mob:                                                              \n",
      "SALE-L3401  16/01/24  FIXTERIA 200 TABS                   10        0       507.29        5+2 \n",
      "                      DR TANVEER AHMAD                                                        \n",
      "                      GST:, Mob:                                                              \n",
      "SALE-L3242  03/01/24  PENCENAX-MR TABS                     5        5       256.25            \n",
      "SALE-L3414  18/01/24  VALUCLAV-625 TABS                   10        0       800.00            \n",
      "                      PARTY TOTAL                                          1056.25            \n",
      "                      KRISHNA MEDICAL STORE                                                   \n",
      "                      GST:09ADJPY1829P1ZK, Mob:                                               \n",
      "SALE-L3410  17/01/24  VALUCLAV FORTE DRY SYR              10        5       988.30            \n",
      "                      LIFECARE M/S LALGANJ                                                    \n",
      "                      GST:, Mob:                                                              \n",
      "SALE-L3368  13/01/24  FIXTERIA-CV 200 TAB                 20        0      1317.80        1+1 \n",
      "                      SHASWAT CLINIC                                                          \n",
      "                      GST:, Mob:                                                              \n",
      "SALE-L3463  24/01/24  VALUCLAV-625 TABS                   10        0       746.80        1+1 \n",
      "                                                                                              \n",
      "                      G TOTAL                                              6824.48            \n",
      "                                                                                              \n",
      "Page 1 of 1\n"
     ]
    }
   ],
   "source": [
    "pdf_path = '/Users/princypatel/valunova/bill copy valunova jan.pdf'  # Replace 'example.pdf' with the path to your PDF file\n",
    "extracted_text = extract_text_from_pdf(pdf_path)\n",
    "print(extracted_text)"
   ]
  },
  {
   "cell_type": "code",
   "execution_count": 12,
   "metadata": {},
   "outputs": [],
   "source": [
    "import csv"
   ]
  },
  {
   "cell_type": "code",
   "execution_count": 13,
   "metadata": {},
   "outputs": [],
   "source": [
    "def save_text_to_csv(extracted_text, csv_file):\n",
    "    # Open the CSV file in append mode\n",
    "    with open(csv_file, 'a', newline='', encoding='utf-8') as file:\n",
    "        writer = csv.writer(file)\n",
    "        \n",
    "        # Loop through each page's text\n",
    "        for page_text in extracted_text:\n",
    "            lines = page_text.split('\\n')\n",
    "            data_start = False\n",
    "            \n",
    "            # Iterate through each line\n",
    "            for line in lines:\n",
    "                # Check if the line contains the start of the data section\n",
    "                if \"INV NO      INV DATE  PARTY / PRODUCT\" in line:\n",
    "                    data_start = True\n",
    "                    continue\n",
    "                \n",
    "                # If the data section has started, extract and write data to CSV\n",
    "                if data_start:\n",
    "                    # Extracting data based on fixed positions\n",
    "                    invoice_no = line[:11].strip()\n",
    "                    invoice_date = line[11:21].strip()\n",
    "                    party_product = line[21:53].strip()\n",
    "                    quantity = line[53:61].strip()\n",
    "                    free = line[61:69].strip()\n",
    "                    total_amt = line[69:84].strip()\n",
    "                    scheme = line[84:].strip()\n",
    "                    \n",
    "                    # Write data to CSV\n",
    "                    writer.writerow([invoice_no, invoice_date, party_product, quantity, free, total_amt, scheme])\n"
   ]
  },
  {
   "cell_type": "code",
   "execution_count": 14,
   "metadata": {},
   "outputs": [],
   "source": [
    "# Path to save CSV file\n",
    "csv_file = '/Users/princypatel/valunova/bill_copy_valunova_jan.csv'\n",
    "\n",
    "# Save extracted text to CSV\n",
    "save_text_to_csv(extracted_text, csv_file)\n"
   ]
  },
  {
   "cell_type": "code",
   "execution_count": 15,
   "metadata": {},
   "outputs": [],
   "source": [
    "import tabula "
   ]
  },
  {
   "cell_type": "code",
   "execution_count": 16,
   "metadata": {},
   "outputs": [
    {
     "name": "stderr",
     "output_type": "stream",
     "text": [
      "/Users/princypatel/valunova/venv/lib/python3.10/site-packages/tabula/io.py:1045: FutureWarning: errors='ignore' is deprecated and will raise in a future version. Use to_numeric without passing `errors` and catch exceptions explicitly instead\n",
      "  df[c] = pd.to_numeric(df[c], errors=\"ignore\")\n"
     ]
    }
   ],
   "source": [
    "data= tabula.read_pdf('/Users/princypatel/valunova/bill copy valunova jan.pdf', pages= '1')"
   ]
  },
  {
   "cell_type": "code",
   "execution_count": 17,
   "metadata": {},
   "outputs": [
    {
     "name": "stdout",
     "output_type": "stream",
     "text": [
      "[                                      Unnamed: 0  Unnamed: 1  \\\n",
      "0                INV NOINV DATE  PARTY / PRODUCT         NaN   \n",
      "1                                            NaN         NaN   \n",
      "2                              ASWINI HEALTHCARE         NaN   \n",
      "3                                     GST:, Mob:         NaN   \n",
      "4         SALE-L3475  24/01/24  PENCENAX-MR TABS         NaN   \n",
      "5                                     CASH SALES         NaN   \n",
      "6                                     GST:, Mob:         NaN   \n",
      "7        SALE-L3384  15/01/24  ROVAFLUX DSR CAPS         NaN   \n",
      "8         SALE-L3424  18/01/24  INFIZITH-500 TAB         NaN   \n",
      "9      SALE-L3520  31/01/24  FIXTERIA-CV 200 TAB         NaN   \n",
      "10                                   PARTY TOTAL         NaN   \n",
      "11                                     DR S LARI         NaN   \n",
      "12                                    GST:, Mob:         NaN   \n",
      "13       SALE-L3401  16/01/24  FIXTERIA 200 TABS         NaN   \n",
      "14                              DR TANVEER AHMAD         NaN   \n",
      "15                                    GST:, Mob:         NaN   \n",
      "16        SALE-L3242  03/01/24  PENCENAX-MR TABS         NaN   \n",
      "17       SALE-L3414  18/01/24  VALUCLAV-625 TABS         NaN   \n",
      "18                                   PARTY TOTAL         NaN   \n",
      "19                         KRISHNA MEDICAL STORE         NaN   \n",
      "20                     GST:09ADJPY1829P1ZK, Mob:         NaN   \n",
      "21  SALE-L3410  17/01/24  VALUCLAV FORTE DRY SYR         NaN   \n",
      "22                          LIFECARE M/S LALGANJ         NaN   \n",
      "23                                    GST:, Mob:         NaN   \n",
      "24     SALE-L3368  13/01/24  FIXTERIA-CV 200 TAB         NaN   \n",
      "25                                SHASWAT CLINIC         NaN   \n",
      "26                                    GST:, Mob:         NaN   \n",
      "27       SALE-L3463  24/01/24  VALUCLAV-625 TABS         NaN   \n",
      "\n",
      "   Bill Copy, Bill By Product(Party Wise) From : 01/01/24 To 31/01/24  \n",
      "0                              QTYFREETOTAL AMTSCHEME                  \n",
      "1                                                 NaN                  \n",
      "2                                                 NaN                  \n",
      "3                                                 NaN                  \n",
      "4                                        100341.672+1                  \n",
      "5                                                 NaN                  \n",
      "6                                                 NaN                  \n",
      "7                                          2065.331+2                  \n",
      "8                                       2001142.142+1                  \n",
      "9                                        100658.901+1                  \n",
      "10                                            1866.37                  \n",
      "11                                                NaN                  \n",
      "12                                                NaN                  \n",
      "13                                       100507.295+2                  \n",
      "14                                                NaN                  \n",
      "15                                                NaN                  \n",
      "16                                           55256.25                  \n",
      "17                                          100800.00                  \n",
      "18                                            1056.25                  \n",
      "19                                                NaN                  \n",
      "20                                                NaN                  \n",
      "21                                          105988.30                  \n",
      "22                                                NaN                  \n",
      "23                                                NaN                  \n",
      "24                                      2001317.801+1                  \n",
      "25                                                NaN                  \n",
      "26                                                NaN                  \n",
      "27                                       100746.801+1                  ]\n"
     ]
    }
   ],
   "source": [
    "print(data)"
   ]
  },
  {
   "cell_type": "code",
   "execution_count": 4,
   "metadata": {},
   "outputs": [
    {
     "name": "stderr",
     "output_type": "stream",
     "text": [
      "/var/folders/f1/j3g41jpn45lgzzz9dzbxrdn40000gn/T/ipykernel_25157/3289693552.py:48: FutureWarning: Downcasting behavior in `replace` is deprecated and will be removed in a future version. To retain the old behavior, explicitly call `result.infer_objects(copy=False)`. To opt-in to the future behavior, set `pd.set_option('future.no_silent_downcasting', True)`\n",
      "  df.replace('', np.nan, inplace=True)\n"
     ]
    },
    {
     "ename": "ValueError",
     "evalue": "could not convert string to float: '4 To 31/'",
     "output_type": "error",
     "traceback": [
      "\u001b[0;31m---------------------------------------------------------------------------\u001b[0m",
      "\u001b[0;31mValueError\u001b[0m                                Traceback (most recent call last)",
      "Cell \u001b[0;32mIn[4], line 55\u001b[0m\n\u001b[1;32m     53\u001b[0m \u001b[38;5;66;03m# Convert numeric columns to appropriate data types\u001b[39;00m\n\u001b[1;32m     54\u001b[0m numeric_cols \u001b[38;5;241m=\u001b[39m [\u001b[38;5;124m'\u001b[39m\u001b[38;5;124mQTY\u001b[39m\u001b[38;5;124m'\u001b[39m, \u001b[38;5;124m'\u001b[39m\u001b[38;5;124mFREE\u001b[39m\u001b[38;5;124m'\u001b[39m, \u001b[38;5;124m'\u001b[39m\u001b[38;5;124mTOTAL AMT\u001b[39m\u001b[38;5;124m'\u001b[39m]\n\u001b[0;32m---> 55\u001b[0m df[numeric_cols] \u001b[38;5;241m=\u001b[39m \u001b[43mdf\u001b[49m\u001b[43m[\u001b[49m\u001b[43mnumeric_cols\u001b[49m\u001b[43m]\u001b[49m\u001b[38;5;241;43m.\u001b[39;49m\u001b[43mastype\u001b[49m\u001b[43m(\u001b[49m\u001b[38;5;28;43mfloat\u001b[39;49m\u001b[43m)\u001b[49m\n\u001b[1;32m     57\u001b[0m \u001b[38;5;66;03m# Save DataFrame to CSV\u001b[39;00m\n\u001b[1;32m     58\u001b[0m csv_file \u001b[38;5;241m=\u001b[39m \u001b[38;5;124m'\u001b[39m\u001b[38;5;124minvoices2.csv\u001b[39m\u001b[38;5;124m'\u001b[39m\n",
      "File \u001b[0;32m~/valunova/venv/lib/python3.10/site-packages/pandas/core/generic.py:6640\u001b[0m, in \u001b[0;36mNDFrame.astype\u001b[0;34m(self, dtype, copy, errors)\u001b[0m\n\u001b[1;32m   6634\u001b[0m     results \u001b[38;5;241m=\u001b[39m [\n\u001b[1;32m   6635\u001b[0m         ser\u001b[38;5;241m.\u001b[39mastype(dtype, copy\u001b[38;5;241m=\u001b[39mcopy, errors\u001b[38;5;241m=\u001b[39merrors) \u001b[38;5;28;01mfor\u001b[39;00m _, ser \u001b[38;5;129;01min\u001b[39;00m \u001b[38;5;28mself\u001b[39m\u001b[38;5;241m.\u001b[39mitems()\n\u001b[1;32m   6636\u001b[0m     ]\n\u001b[1;32m   6638\u001b[0m \u001b[38;5;28;01melse\u001b[39;00m:\n\u001b[1;32m   6639\u001b[0m     \u001b[38;5;66;03m# else, only a single dtype is given\u001b[39;00m\n\u001b[0;32m-> 6640\u001b[0m     new_data \u001b[38;5;241m=\u001b[39m \u001b[38;5;28;43mself\u001b[39;49m\u001b[38;5;241;43m.\u001b[39;49m\u001b[43m_mgr\u001b[49m\u001b[38;5;241;43m.\u001b[39;49m\u001b[43mastype\u001b[49m\u001b[43m(\u001b[49m\u001b[43mdtype\u001b[49m\u001b[38;5;241;43m=\u001b[39;49m\u001b[43mdtype\u001b[49m\u001b[43m,\u001b[49m\u001b[43m \u001b[49m\u001b[43mcopy\u001b[49m\u001b[38;5;241;43m=\u001b[39;49m\u001b[43mcopy\u001b[49m\u001b[43m,\u001b[49m\u001b[43m \u001b[49m\u001b[43merrors\u001b[49m\u001b[38;5;241;43m=\u001b[39;49m\u001b[43merrors\u001b[49m\u001b[43m)\u001b[49m\n\u001b[1;32m   6641\u001b[0m     res \u001b[38;5;241m=\u001b[39m \u001b[38;5;28mself\u001b[39m\u001b[38;5;241m.\u001b[39m_constructor_from_mgr(new_data, axes\u001b[38;5;241m=\u001b[39mnew_data\u001b[38;5;241m.\u001b[39maxes)\n\u001b[1;32m   6642\u001b[0m     \u001b[38;5;28;01mreturn\u001b[39;00m res\u001b[38;5;241m.\u001b[39m__finalize__(\u001b[38;5;28mself\u001b[39m, method\u001b[38;5;241m=\u001b[39m\u001b[38;5;124m\"\u001b[39m\u001b[38;5;124mastype\u001b[39m\u001b[38;5;124m\"\u001b[39m)\n",
      "File \u001b[0;32m~/valunova/venv/lib/python3.10/site-packages/pandas/core/internals/managers.py:430\u001b[0m, in \u001b[0;36mBaseBlockManager.astype\u001b[0;34m(self, dtype, copy, errors)\u001b[0m\n\u001b[1;32m    427\u001b[0m \u001b[38;5;28;01melif\u001b[39;00m using_copy_on_write():\n\u001b[1;32m    428\u001b[0m     copy \u001b[38;5;241m=\u001b[39m \u001b[38;5;28;01mFalse\u001b[39;00m\n\u001b[0;32m--> 430\u001b[0m \u001b[38;5;28;01mreturn\u001b[39;00m \u001b[38;5;28;43mself\u001b[39;49m\u001b[38;5;241;43m.\u001b[39;49m\u001b[43mapply\u001b[49m\u001b[43m(\u001b[49m\n\u001b[1;32m    431\u001b[0m \u001b[43m    \u001b[49m\u001b[38;5;124;43m\"\u001b[39;49m\u001b[38;5;124;43mastype\u001b[39;49m\u001b[38;5;124;43m\"\u001b[39;49m\u001b[43m,\u001b[49m\n\u001b[1;32m    432\u001b[0m \u001b[43m    \u001b[49m\u001b[43mdtype\u001b[49m\u001b[38;5;241;43m=\u001b[39;49m\u001b[43mdtype\u001b[49m\u001b[43m,\u001b[49m\n\u001b[1;32m    433\u001b[0m \u001b[43m    \u001b[49m\u001b[43mcopy\u001b[49m\u001b[38;5;241;43m=\u001b[39;49m\u001b[43mcopy\u001b[49m\u001b[43m,\u001b[49m\n\u001b[1;32m    434\u001b[0m \u001b[43m    \u001b[49m\u001b[43merrors\u001b[49m\u001b[38;5;241;43m=\u001b[39;49m\u001b[43merrors\u001b[49m\u001b[43m,\u001b[49m\n\u001b[1;32m    435\u001b[0m \u001b[43m    \u001b[49m\u001b[43musing_cow\u001b[49m\u001b[38;5;241;43m=\u001b[39;49m\u001b[43musing_copy_on_write\u001b[49m\u001b[43m(\u001b[49m\u001b[43m)\u001b[49m\u001b[43m,\u001b[49m\n\u001b[1;32m    436\u001b[0m \u001b[43m\u001b[49m\u001b[43m)\u001b[49m\n",
      "File \u001b[0;32m~/valunova/venv/lib/python3.10/site-packages/pandas/core/internals/managers.py:363\u001b[0m, in \u001b[0;36mBaseBlockManager.apply\u001b[0;34m(self, f, align_keys, **kwargs)\u001b[0m\n\u001b[1;32m    361\u001b[0m         applied \u001b[38;5;241m=\u001b[39m b\u001b[38;5;241m.\u001b[39mapply(f, \u001b[38;5;241m*\u001b[39m\u001b[38;5;241m*\u001b[39mkwargs)\n\u001b[1;32m    362\u001b[0m     \u001b[38;5;28;01melse\u001b[39;00m:\n\u001b[0;32m--> 363\u001b[0m         applied \u001b[38;5;241m=\u001b[39m \u001b[38;5;28;43mgetattr\u001b[39;49m\u001b[43m(\u001b[49m\u001b[43mb\u001b[49m\u001b[43m,\u001b[49m\u001b[43m \u001b[49m\u001b[43mf\u001b[49m\u001b[43m)\u001b[49m\u001b[43m(\u001b[49m\u001b[38;5;241;43m*\u001b[39;49m\u001b[38;5;241;43m*\u001b[39;49m\u001b[43mkwargs\u001b[49m\u001b[43m)\u001b[49m\n\u001b[1;32m    364\u001b[0m     result_blocks \u001b[38;5;241m=\u001b[39m extend_blocks(applied, result_blocks)\n\u001b[1;32m    366\u001b[0m out \u001b[38;5;241m=\u001b[39m \u001b[38;5;28mtype\u001b[39m(\u001b[38;5;28mself\u001b[39m)\u001b[38;5;241m.\u001b[39mfrom_blocks(result_blocks, \u001b[38;5;28mself\u001b[39m\u001b[38;5;241m.\u001b[39maxes)\n",
      "File \u001b[0;32m~/valunova/venv/lib/python3.10/site-packages/pandas/core/internals/blocks.py:758\u001b[0m, in \u001b[0;36mBlock.astype\u001b[0;34m(self, dtype, copy, errors, using_cow, squeeze)\u001b[0m\n\u001b[1;32m    755\u001b[0m         \u001b[38;5;28;01mraise\u001b[39;00m \u001b[38;5;167;01mValueError\u001b[39;00m(\u001b[38;5;124m\"\u001b[39m\u001b[38;5;124mCan not squeeze with more than one column.\u001b[39m\u001b[38;5;124m\"\u001b[39m)\n\u001b[1;32m    756\u001b[0m     values \u001b[38;5;241m=\u001b[39m values[\u001b[38;5;241m0\u001b[39m, :]  \u001b[38;5;66;03m# type: ignore[call-overload]\u001b[39;00m\n\u001b[0;32m--> 758\u001b[0m new_values \u001b[38;5;241m=\u001b[39m \u001b[43mastype_array_safe\u001b[49m\u001b[43m(\u001b[49m\u001b[43mvalues\u001b[49m\u001b[43m,\u001b[49m\u001b[43m \u001b[49m\u001b[43mdtype\u001b[49m\u001b[43m,\u001b[49m\u001b[43m \u001b[49m\u001b[43mcopy\u001b[49m\u001b[38;5;241;43m=\u001b[39;49m\u001b[43mcopy\u001b[49m\u001b[43m,\u001b[49m\u001b[43m \u001b[49m\u001b[43merrors\u001b[49m\u001b[38;5;241;43m=\u001b[39;49m\u001b[43merrors\u001b[49m\u001b[43m)\u001b[49m\n\u001b[1;32m    760\u001b[0m new_values \u001b[38;5;241m=\u001b[39m maybe_coerce_values(new_values)\n\u001b[1;32m    762\u001b[0m refs \u001b[38;5;241m=\u001b[39m \u001b[38;5;28;01mNone\u001b[39;00m\n",
      "File \u001b[0;32m~/valunova/venv/lib/python3.10/site-packages/pandas/core/dtypes/astype.py:237\u001b[0m, in \u001b[0;36mastype_array_safe\u001b[0;34m(values, dtype, copy, errors)\u001b[0m\n\u001b[1;32m    234\u001b[0m     dtype \u001b[38;5;241m=\u001b[39m dtype\u001b[38;5;241m.\u001b[39mnumpy_dtype\n\u001b[1;32m    236\u001b[0m \u001b[38;5;28;01mtry\u001b[39;00m:\n\u001b[0;32m--> 237\u001b[0m     new_values \u001b[38;5;241m=\u001b[39m \u001b[43mastype_array\u001b[49m\u001b[43m(\u001b[49m\u001b[43mvalues\u001b[49m\u001b[43m,\u001b[49m\u001b[43m \u001b[49m\u001b[43mdtype\u001b[49m\u001b[43m,\u001b[49m\u001b[43m \u001b[49m\u001b[43mcopy\u001b[49m\u001b[38;5;241;43m=\u001b[39;49m\u001b[43mcopy\u001b[49m\u001b[43m)\u001b[49m\n\u001b[1;32m    238\u001b[0m \u001b[38;5;28;01mexcept\u001b[39;00m (\u001b[38;5;167;01mValueError\u001b[39;00m, \u001b[38;5;167;01mTypeError\u001b[39;00m):\n\u001b[1;32m    239\u001b[0m     \u001b[38;5;66;03m# e.g. _astype_nansafe can fail on object-dtype of strings\u001b[39;00m\n\u001b[1;32m    240\u001b[0m     \u001b[38;5;66;03m#  trying to convert to float\u001b[39;00m\n\u001b[1;32m    241\u001b[0m     \u001b[38;5;28;01mif\u001b[39;00m errors \u001b[38;5;241m==\u001b[39m \u001b[38;5;124m\"\u001b[39m\u001b[38;5;124mignore\u001b[39m\u001b[38;5;124m\"\u001b[39m:\n",
      "File \u001b[0;32m~/valunova/venv/lib/python3.10/site-packages/pandas/core/dtypes/astype.py:182\u001b[0m, in \u001b[0;36mastype_array\u001b[0;34m(values, dtype, copy)\u001b[0m\n\u001b[1;32m    179\u001b[0m     values \u001b[38;5;241m=\u001b[39m values\u001b[38;5;241m.\u001b[39mastype(dtype, copy\u001b[38;5;241m=\u001b[39mcopy)\n\u001b[1;32m    181\u001b[0m \u001b[38;5;28;01melse\u001b[39;00m:\n\u001b[0;32m--> 182\u001b[0m     values \u001b[38;5;241m=\u001b[39m \u001b[43m_astype_nansafe\u001b[49m\u001b[43m(\u001b[49m\u001b[43mvalues\u001b[49m\u001b[43m,\u001b[49m\u001b[43m \u001b[49m\u001b[43mdtype\u001b[49m\u001b[43m,\u001b[49m\u001b[43m \u001b[49m\u001b[43mcopy\u001b[49m\u001b[38;5;241;43m=\u001b[39;49m\u001b[43mcopy\u001b[49m\u001b[43m)\u001b[49m\n\u001b[1;32m    184\u001b[0m \u001b[38;5;66;03m# in pandas we don't store numpy str dtypes, so convert to object\u001b[39;00m\n\u001b[1;32m    185\u001b[0m \u001b[38;5;28;01mif\u001b[39;00m \u001b[38;5;28misinstance\u001b[39m(dtype, np\u001b[38;5;241m.\u001b[39mdtype) \u001b[38;5;129;01mand\u001b[39;00m \u001b[38;5;28missubclass\u001b[39m(values\u001b[38;5;241m.\u001b[39mdtype\u001b[38;5;241m.\u001b[39mtype, \u001b[38;5;28mstr\u001b[39m):\n",
      "File \u001b[0;32m~/valunova/venv/lib/python3.10/site-packages/pandas/core/dtypes/astype.py:133\u001b[0m, in \u001b[0;36m_astype_nansafe\u001b[0;34m(arr, dtype, copy, skipna)\u001b[0m\n\u001b[1;32m    129\u001b[0m     \u001b[38;5;28;01mraise\u001b[39;00m \u001b[38;5;167;01mValueError\u001b[39;00m(msg)\n\u001b[1;32m    131\u001b[0m \u001b[38;5;28;01mif\u001b[39;00m copy \u001b[38;5;129;01mor\u001b[39;00m arr\u001b[38;5;241m.\u001b[39mdtype \u001b[38;5;241m==\u001b[39m \u001b[38;5;28mobject\u001b[39m \u001b[38;5;129;01mor\u001b[39;00m dtype \u001b[38;5;241m==\u001b[39m \u001b[38;5;28mobject\u001b[39m:\n\u001b[1;32m    132\u001b[0m     \u001b[38;5;66;03m# Explicit copy, or required since NumPy can't view from / to object.\u001b[39;00m\n\u001b[0;32m--> 133\u001b[0m     \u001b[38;5;28;01mreturn\u001b[39;00m \u001b[43marr\u001b[49m\u001b[38;5;241;43m.\u001b[39;49m\u001b[43mastype\u001b[49m\u001b[43m(\u001b[49m\u001b[43mdtype\u001b[49m\u001b[43m,\u001b[49m\u001b[43m \u001b[49m\u001b[43mcopy\u001b[49m\u001b[38;5;241;43m=\u001b[39;49m\u001b[38;5;28;43;01mTrue\u001b[39;49;00m\u001b[43m)\u001b[49m\n\u001b[1;32m    135\u001b[0m \u001b[38;5;28;01mreturn\u001b[39;00m arr\u001b[38;5;241m.\u001b[39mastype(dtype, copy\u001b[38;5;241m=\u001b[39mcopy)\n",
      "\u001b[0;31mValueError\u001b[0m: could not convert string to float: '4 To 31/'"
     ]
    }
   ],
   "source": [
    "import pdfplumber\n",
    "import pandas as pd\n",
    "import numpy as np\n",
    "\n",
    "# Path to the PDF file\n",
    "pdf_file = '/Users/princypatel/valunova/bill copy valunova jan.pdf'\n",
    "\n",
    "# Function to parse dates\n",
    "def parse_date(date_str):\n",
    "    try:\n",
    "        # Attempt to parse the date string\n",
    "        return pd.to_datetime(date_str)\n",
    "    except:\n",
    "        # If parsing fails, return NaN\n",
    "        return np.nan\n",
    "\n",
    "# Function to extract data from PDF\n",
    "def extract_data_from_pdf(pdf_file):\n",
    "    data = []\n",
    "    with pdfplumber.open(pdf_file) as pdf:\n",
    "        for page in pdf.pages:\n",
    "            text = page.extract_text()\n",
    "            lines = text.split('\\n')\n",
    "            for line in lines:\n",
    "                # Split line into individual fields based on the fixed positions\n",
    "                inv_no = line[:11].strip()\n",
    "                inv_date = line[11:21].strip()\n",
    "                party_product = line[21:53].strip()\n",
    "                qty = line[53:61].strip()\n",
    "                free = line[61:69].strip()\n",
    "                total_amt = line[69:84].strip()\n",
    "                scheme = line[84:].strip()\n",
    "                \n",
    "                # Append extracted data to the list\n",
    "                data.append([inv_no, inv_date, party_product, qty, free, total_amt, scheme])\n",
    "    return data\n",
    "\n",
    "# Extract data from PDF\n",
    "data = extract_data_from_pdf(pdf_file)\n",
    "\n",
    "# Define column names for DataFrame\n",
    "columns = ['INV NO', 'INV DATE', 'PARTY / PRODUCT', 'QTY', 'FREE', 'TOTAL AMT', 'SCHEME']\n",
    "\n",
    "# Create DataFrame\n",
    "df = pd.DataFrame(data, columns=columns)\n",
    "\n",
    "# Replace empty strings with NaN\n",
    "df.replace('', np.nan, inplace=True)\n",
    "\n",
    "# Parse 'INV DATE' column\n",
    "df['INV DATE'] = df['INV DATE'].apply(parse_date)\n",
    "\n",
    "# Convert numeric columns to appropriate data types\n",
    "numeric_cols = ['QTY', 'FREE', 'TOTAL AMT']\n",
    "df[numeric_cols] = df[numeric_cols].astype(float)\n",
    "\n",
    "# Save DataFrame to CSV\n",
    "csv_file = 'invoices2.csv'\n",
    "df.to_csv(csv_file, index=False)\n",
    "\n"
   ]
  },
  {
   "cell_type": "code",
   "execution_count": null,
   "metadata": {},
   "outputs": [],
   "source": []
  }
 ],
 "metadata": {
  "kernelspec": {
   "display_name": "venv",
   "language": "python",
   "name": "python3"
  },
  "language_info": {
   "codemirror_mode": {
    "name": "ipython",
    "version": 3
   },
   "file_extension": ".py",
   "mimetype": "text/x-python",
   "name": "python",
   "nbconvert_exporter": "python",
   "pygments_lexer": "ipython3",
   "version": "3.10.5"
  }
 },
 "nbformat": 4,
 "nbformat_minor": 2
}
